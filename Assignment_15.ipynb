{
 "cells": [
  {
   "cell_type": "markdown",
   "id": "e8a1b864",
   "metadata": {},
   "source": [
    "Q1.How many seconds are in an hour? Use the interactive interpreter as a calculator and multiply the\n",
    "number of seconds in a minute (60) by the number of minutes in an hour (also 60).\n"
   ]
  },
  {
   "cell_type": "code",
   "execution_count": 1,
   "id": "05ad520a",
   "metadata": {},
   "outputs": [
    {
     "data": {
      "text/plain": [
       "3600"
      ]
     },
     "execution_count": 1,
     "metadata": {},
     "output_type": "execute_result"
    }
   ],
   "source": [
    "60*60"
   ]
  },
  {
   "cell_type": "markdown",
   "id": "ce803188",
   "metadata": {},
   "source": [
    "Q2. Assign the result from the previous task (seconds in an hour) to a variable called\n",
    "seconds_per_hour.\n"
   ]
  },
  {
   "cell_type": "code",
   "execution_count": 2,
   "id": "0bc1520e",
   "metadata": {},
   "outputs": [],
   "source": [
    "seconds_per_hour=3600"
   ]
  },
  {
   "cell_type": "markdown",
   "id": "5cabdc94",
   "metadata": {},
   "source": [
    "Q3.How many seconds do you think there are in a day? Make use of the variables seconds per hour\n",
    "and minutes per hour.\n"
   ]
  },
  {
   "cell_type": "code",
   "execution_count": 3,
   "id": "e1ba4ac8",
   "metadata": {},
   "outputs": [
    {
     "data": {
      "text/plain": [
       "86400"
      ]
     },
     "execution_count": 3,
     "metadata": {},
     "output_type": "execute_result"
    }
   ],
   "source": [
    "seconds_per_hourseconds_per_hour*24"
   ]
  },
  {
   "cell_type": "markdown",
   "id": "3f6c7c4b",
   "metadata": {},
   "source": [
    "Q4.Calculate seconds per day again, but this time save the result in a variable called seconds_per_day"
   ]
  },
  {
   "cell_type": "code",
   "execution_count": 4,
   "id": "9bb47b98",
   "metadata": {},
   "outputs": [],
   "source": [
    "seconds_per_day=seconds_per_hour*24"
   ]
  },
  {
   "cell_type": "code",
   "execution_count": 5,
   "id": "51852d9a",
   "metadata": {},
   "outputs": [
    {
     "data": {
      "text/plain": [
       "86400"
      ]
     },
     "execution_count": 5,
     "metadata": {},
     "output_type": "execute_result"
    }
   ],
   "source": [
    "seconds_per_day"
   ]
  },
  {
   "cell_type": "markdown",
   "id": "c65eaf85",
   "metadata": {},
   "source": [
    "Q5.Divide seconds_per_day by seconds_per_hour. Use floating-point (/) division"
   ]
  },
  {
   "cell_type": "code",
   "execution_count": 6,
   "id": "34c8a194",
   "metadata": {},
   "outputs": [
    {
     "data": {
      "text/plain": [
       "24.0"
      ]
     },
     "execution_count": 6,
     "metadata": {},
     "output_type": "execute_result"
    }
   ],
   "source": [
    "seconds_per_day/seconds_per_hour"
   ]
  },
  {
   "cell_type": "markdown",
   "id": "a8978985",
   "metadata": {},
   "source": [
    "Q6.Divide seconds_per_day by seconds_per_hour, using integer (//) division. Did this number agree\n",
    "with the floating-point value from the previous question, aside from the final .0?\n"
   ]
  },
  {
   "cell_type": "code",
   "execution_count": 7,
   "id": "52f760ab",
   "metadata": {},
   "outputs": [
    {
     "data": {
      "text/plain": [
       "24"
      ]
     },
     "execution_count": 7,
     "metadata": {},
     "output_type": "execute_result"
    }
   ],
   "source": [
    "seconds_per_day//seconds_per_hour"
   ]
  },
  {
   "cell_type": "markdown",
   "id": "164d5f42",
   "metadata": {},
   "source": [
    "Yes"
   ]
  },
  {
   "cell_type": "markdown",
   "id": "e5c0cdf9",
   "metadata": {},
   "source": [
    "Q7.Write a generator, genPrimes, that returns the sequence of prime numbers on successive calls to\n",
    "its next() method: 2, 3, 5, 7, 11, ...\n"
   ]
  },
  {
   "cell_type": "code",
   "execution_count": 9,
   "id": "35c4be16",
   "metadata": {},
   "outputs": [
    {
     "name": "stdout",
     "output_type": "stream",
     "text": [
      "2\n",
      "3\n",
      "5\n",
      "7\n",
      "11\n"
     ]
    }
   ],
   "source": [
    "def genPrimes():\n",
    "    n = 0\n",
    "    while True:\n",
    "        if n == 2 or n == 3 :\n",
    "            yield n\n",
    "        elif ((n-1)%6 == 0 or (n+1)%6 == 0) and n !=1:\n",
    "            yield n\n",
    "        n = n+1\n",
    "        \n",
    "output = genPrimes()\n",
    "for element in range(5):\n",
    "    print(next(output))"
   ]
  },
  {
   "cell_type": "code",
   "execution_count": null,
   "id": "88bacf72",
   "metadata": {},
   "outputs": [],
   "source": []
  }
 ],
 "metadata": {
  "kernelspec": {
   "display_name": "Python 3 (ipykernel)",
   "language": "python",
   "name": "python3"
  },
  "language_info": {
   "codemirror_mode": {
    "name": "ipython",
    "version": 3
   },
   "file_extension": ".py",
   "mimetype": "text/x-python",
   "name": "python",
   "nbconvert_exporter": "python",
   "pygments_lexer": "ipython3",
   "version": "3.9.12"
  }
 },
 "nbformat": 4,
 "nbformat_minor": 5
}
